{
 "cells": [
  {
   "cell_type": "code",
   "execution_count": 65,
   "metadata": {},
   "outputs": [],
   "source": [
    "             # this one after seeing https://discuss.leetcode.com/post/244105\n",
    "def numJewelsInStones(J, S):\n",
    "    return sum(1 for s in S if s in J)"
   ]
  },
  {
   "cell_type": "code",
   "execution_count": 27,
   "metadata": {},
   "outputs": [],
   "source": [
    "def numJewelsInStones(J, S):\n",
    "    return sum(map(S.count, J))"
   ]
  },
  {
   "cell_type": "code",
   "execution_count": 66,
   "metadata": {},
   "outputs": [
    {
     "data": {
      "text/plain": [
       "3"
      ]
     },
     "execution_count": 66,
     "metadata": {},
     "output_type": "execute_result"
    }
   ],
   "source": [
    "numJewelsInStones(\"aA\",\"aAAbbbb\")\n"
   ]
  },
  {
   "cell_type": "code",
   "execution_count": 13,
   "metadata": {},
   "outputs": [],
   "source": [
    "class Solution:\n",
    "    def arraysIntersection(self, arr1, arr2, arr3):\n",
    "        combined = arr1+arr2+arr3\n",
    "        \n",
    "        dict1={}\n",
    "        \n",
    "        for c in combined:\n",
    "            if c in dict1:\n",
    "                dict1[c]+=1\n",
    "            else:\n",
    "                dict1[c]=1\n",
    "        \n",
    "        \n",
    "        return sorted (key for key,value in dict1.items() if value ==3)"
   ]
  },
  {
   "cell_type": "code",
   "execution_count": 14,
   "metadata": {},
   "outputs": [
    {
     "data": {
      "text/plain": [
       "[1, 2]"
      ]
     },
     "execution_count": 14,
     "metadata": {},
     "output_type": "execute_result"
    }
   ],
   "source": [
    "c = Solution()\n",
    "c.arraysIntersection([1,2,3],[1,2],[1,2,3])"
   ]
  },
  {
   "cell_type": "code",
   "execution_count": 1,
   "metadata": {},
   "outputs": [],
   "source": [
    "class Solution:\n",
    "    def arraysIntersection1(self, arr1, arr2, arr3):        \n",
    "        list1 = []\n",
    "        for i in arr1:\n",
    "            for j in arr2:\n",
    "                for k in arr3:\n",
    "                    if i == j and i == k:\n",
    "                        list1.append(i)\n",
    "        \n",
    "        \n",
    "        return list1"
   ]
  },
  {
   "cell_type": "code",
   "execution_count": 81,
   "metadata": {},
   "outputs": [],
   "source": [
    "class Solution:\n",
    "    def arraysIntersection2(self, arr1, arr2, arr3) -> dict:  \n",
    "        dict1={}\n",
    "        arr4 = arr1+ arr2+ arr3\n",
    "        for val in arr4:\n",
    "            if val in dict1:\n",
    "                dict1[val] +=1\n",
    "            else:\n",
    "                dict1[val] = 1       \n",
    "        \n",
    "        \n",
    "        for key, value in dict1.items():\n",
    "            if 3 == value:\n",
    "                print (key)\n",
    "        return sorted((key for key,value in dict1.items() if value == 3), reverse = True)\n",
    "    \n",
    "    "
   ]
  },
  {
   "cell_type": "code",
   "execution_count": 82,
   "metadata": {},
   "outputs": [
    {
     "name": "stdout",
     "output_type": "stream",
     "text": [
      "1\n",
      "2\n"
     ]
    },
    {
     "data": {
      "text/plain": [
       "[2, 1]"
      ]
     },
     "execution_count": 82,
     "metadata": {},
     "output_type": "execute_result"
    }
   ],
   "source": [
    "c = Solution()\n",
    "c.arraysIntersection2([1,2,3],[1,2],[1,2,3])"
   ]
  },
  {
   "cell_type": "code",
   "execution_count": 94,
   "metadata": {},
   "outputs": [],
   "source": [
    "class Solution:\n",
    "    def singleNumber(self, nums):\n",
    "        dict1={}\n",
    "        for i in nums:\n",
    "            if i in dict1:\n",
    "                dict1[i]+=1\n",
    "            else:\n",
    "                dict1[i] = 1\n",
    "                \n",
    "        for key,value in dict1.items():\n",
    "            if value == 1:\n",
    "                return key"
   ]
  },
  {
   "cell_type": "code",
   "execution_count": 111,
   "metadata": {},
   "outputs": [
    {
     "ename": "NameError",
     "evalue": "name 'join' is not defined",
     "output_type": "error",
     "traceback": [
      "\u001b[0;31m---------------------------------------------------------------------------\u001b[0m",
      "\u001b[0;31mNameError\u001b[0m                                 Traceback (most recent call last)",
      "\u001b[0;32m<ipython-input-111-92ed6f360071>\u001b[0m in \u001b[0;36m<module>\u001b[0;34m\u001b[0m\n\u001b[1;32m      1\u001b[0m \u001b[0mc\u001b[0m \u001b[0;34m=\u001b[0m \u001b[0mSolution\u001b[0m\u001b[0;34m(\u001b[0m\u001b[0;34m)\u001b[0m\u001b[0;34m\u001b[0m\u001b[0;34m\u001b[0m\u001b[0m\n\u001b[0;32m----> 2\u001b[0;31m \u001b[0mc\u001b[0m\u001b[0;34m.\u001b[0m\u001b[0msingleNumber\u001b[0m\u001b[0;34m(\u001b[0m\u001b[0;34m[\u001b[0m\u001b[0;36m2\u001b[0m\u001b[0;34m,\u001b[0m\u001b[0;36m2\u001b[0m\u001b[0;34m,\u001b[0m\u001b[0;36m2\u001b[0m\u001b[0;34m,\u001b[0m\u001b[0;36m5\u001b[0m\u001b[0;34m,\u001b[0m\u001b[0;36m3\u001b[0m\u001b[0;34m,\u001b[0m\u001b[0;36m3\u001b[0m\u001b[0;34m]\u001b[0m\u001b[0;34m)\u001b[0m\u001b[0;34m\u001b[0m\u001b[0;34m\u001b[0m\u001b[0m\n\u001b[0m",
      "\u001b[0;32m<ipython-input-110-251d0ad31e6e>\u001b[0m in \u001b[0;36msingleNumber\u001b[0;34m(self, nums)\u001b[0m\n\u001b[1;32m      8\u001b[0m                 \u001b[0mdict1\u001b[0m\u001b[0;34m[\u001b[0m\u001b[0mi\u001b[0m\u001b[0;34m]\u001b[0m \u001b[0;34m=\u001b[0m \u001b[0;36m1\u001b[0m\u001b[0;34m\u001b[0m\u001b[0;34m\u001b[0m\u001b[0m\n\u001b[1;32m      9\u001b[0m \u001b[0;34m\u001b[0m\u001b[0m\n\u001b[0;32m---> 10\u001b[0;31m         \u001b[0;32mreturn\u001b[0m \u001b[0;34m''\u001b[0m\u001b[0;34m+\u001b[0m \u001b[0mjoin\u001b[0m\u001b[0;34m(\u001b[0m\u001b[0msorted\u001b[0m\u001b[0;34m(\u001b[0m\u001b[0mstr\u001b[0m\u001b[0;34m(\u001b[0m\u001b[0mkey\u001b[0m\u001b[0;34m)\u001b[0m \u001b[0;32mfor\u001b[0m \u001b[0mkey\u001b[0m\u001b[0;34m,\u001b[0m\u001b[0mvalue\u001b[0m \u001b[0;32min\u001b[0m \u001b[0mdict1\u001b[0m\u001b[0;34m.\u001b[0m\u001b[0mitems\u001b[0m\u001b[0;34m(\u001b[0m\u001b[0;34m)\u001b[0m \u001b[0;32mif\u001b[0m \u001b[0mvalue\u001b[0m\u001b[0;34m==\u001b[0m\u001b[0;36m1\u001b[0m\u001b[0;34m)\u001b[0m\u001b[0;34m)\u001b[0m\u001b[0;34m\u001b[0m\u001b[0;34m\u001b[0m\u001b[0m\n\u001b[0m",
      "\u001b[0;31mNameError\u001b[0m: name 'join' is not defined"
     ]
    }
   ],
   "source": [
    "c = Solution()\n",
    "c.singleNumber([2,2,2,5,3,3])"
   ]
  },
  {
   "cell_type": "code",
   "execution_count": 121,
   "metadata": {},
   "outputs": [],
   "source": [
    "class Solution:\n",
    "    def singleNumber(self, nums) -> int:\n",
    "        dict1={}\n",
    "        for i in nums:\n",
    "            if i in dict1:\n",
    "                dict1[i]+=1\n",
    "            else:\n",
    "                dict1[i] = 1\n",
    "                \n",
    "        return ''.join(sorted(str(key) for key,value in dict1.items() if value==1))"
   ]
  },
  {
   "cell_type": "code",
   "execution_count": 122,
   "metadata": {},
   "outputs": [
    {
     "data": {
      "text/plain": [
       "'5'"
      ]
     },
     "execution_count": 122,
     "metadata": {},
     "output_type": "execute_result"
    }
   ],
   "source": [
    "c = Solution()\n",
    "c.singleNumber([2,2,2,5,3,3])"
   ]
  },
  {
   "cell_type": "code",
   "execution_count": 163,
   "metadata": {},
   "outputs": [],
   "source": [
    "from collections import defaultdict\n",
    "class Solution:\n",
    "    def uncommonFromSentences(self, A, B):\n",
    "        astr = A.split()\n",
    "        bstr = B.split()\n",
    "        \n",
    "        dict1 = defaultdict(str)\n",
    "        \n",
    "        for i in astr:\n",
    "            if i in dict1:\n",
    "                dict1[i]+=1\n",
    "            else:\n",
    "                dict1[i] = 1\n",
    "                \n",
    "        for j in bstr:\n",
    "                \n",
    "                if j in dict1 and dict1[j]==1:\n",
    "                    dict1[j]-=1\n",
    "                elif j not in dict1:\n",
    "                    dict1[j] = 1\n",
    "                    \n",
    "        return sorted(k for k,v in dict1.items() if v==1 )"
   ]
  },
  {
   "cell_type": "code",
   "execution_count": 164,
   "metadata": {},
   "outputs": [
    {
     "data": {
      "text/plain": [
       "['a', 'b']"
      ]
     },
     "execution_count": 164,
     "metadata": {},
     "output_type": "execute_result"
    }
   ],
   "source": [
    "c = Solution()\n",
    "c.uncommonFromSentences(\"this is a this\",\"this is b\")"
   ]
  },
  {
   "cell_type": "code",
   "execution_count": null,
   "metadata": {},
   "outputs": [],
   "source": [
    "from collections import defaultdict\n",
    "class Solution:\n",
    "    def uncommonFromSentences(self, A: str, B: str) -> List[str]:\n",
    "\n",
    "        astr = A.split()\n",
    "        bstr = B.split()\n",
    "        \n",
    "        dict1 = defaultdict(str)\n",
    "        \n",
    "        for i in astr:\n",
    "            # if i in dict1:\n",
    "            #     dict1[i]+=1\n",
    "            # else:\n",
    "            #     dict1[i] = 1\n",
    "            dict1[i] = dict1.get(i,0)+1\n",
    "                \n",
    "        for j in bstr:\n",
    "                \n",
    "                # if j in dict1 and dict1[j]==1:\n",
    "                #     dict1[j]-=1\n",
    "                # elif j not in dict1:\n",
    "                #     dict1[j] = 1\n",
    "            dict1[j] = dict1.get(j,0)+1\n",
    "\n",
    "\n",
    "                    \n",
    "        return sorted(k for k,v in dict1.items() if v==1 )"
   ]
  },
  {
   "cell_type": "code",
   "execution_count": 167,
   "metadata": {},
   "outputs": [],
   "source": [
    "class Solution(object):\n",
    "    def intersection(self, nums1, nums2):\n",
    "        \n",
    "        \"\"\"\n",
    "        :type nums1: List[int]\n",
    "        :type nums2: List[int]\n",
    "        :rtype: List[int]\n",
    "        \"\"\"\n",
    "#         Example 1:\n",
    "\n",
    "# Input: nums1 = [1,2,2,1], nums2 = [2,2]\n",
    "# Output: [2]\n",
    "# Example 2:\n",
    "\n",
    "# Input: nums1 = [4,9,5], nums2 = [9,4,9,8,4]\n",
    "# Output: [9,4]\n",
    "        list1 = []\n",
    "    \n",
    "        dict1 = {}\n",
    "        for i in nums1:\n",
    "            list1.append(i)\n",
    "                \n",
    "        for j in nums2:\n",
    "            if j in dict1:\n",
    "                return j\n",
    "                \n",
    "                \n",
    "                \n",
    "#                 4 1-- 0\n",
    "#                 9 1-- 0\n",
    "#                 5 1\n",
    "                \n",
    "#                 9 1-- 0\n",
    "#                 4 1-- 0 \n",
    "#                 9 \n",
    "#                 8 1\n",
    "#                 4 1\n",
    "                \n",
    "                \n",
    "#                1 2\n",
    "#                2 0\n",
    "                \n",
    "#                2 2\n",
    "                \n",
    "                \n",
    "            2"
   ]
  },
  {
   "cell_type": "code",
   "execution_count": 168,
   "metadata": {},
   "outputs": [],
   "source": [
    "c = Solution()\n",
    "c.intersection([1,2,2,3],[1,3])"
   ]
  },
  {
   "cell_type": "code",
   "execution_count": 174,
   "metadata": {},
   "outputs": [],
   "source": [
    "class Solution(object):\n",
    "    \n",
    "    def intersection(self, nums1, nums2):\n",
    "        \"\"\"\n",
    "        :type nums1: List[int]\n",
    "        :type nums2: List[int]\n",
    "        :rtype: List[int]\n",
    "        \"\"\"\n",
    "        res = []\n",
    "        dict1 = defaultdict()\n",
    "        for i in nums1:\n",
    "            dict1[i] = dict1.get(i,0)+1\n",
    "\n",
    "\n",
    "        for j in nums2:\n",
    "            if j in dict1 and dict1[j] > 0:\n",
    "                res.append(j)\n",
    "                dict1[j] = 0\n",
    "\n",
    "        return res"
   ]
  },
  {
   "cell_type": "code",
   "execution_count": 175,
   "metadata": {},
   "outputs": [
    {
     "data": {
      "text/plain": [
       "[1, 3]"
      ]
     },
     "execution_count": 175,
     "metadata": {},
     "output_type": "execute_result"
    }
   ],
   "source": [
    "c = Solution()\n",
    "c.intersection([1,2,2,3],[1,3,1])"
   ]
  },
  {
   "cell_type": "code",
   "execution_count": null,
   "metadata": {},
   "outputs": [],
   "source": []
  }
 ],
 "metadata": {
  "kernelspec": {
   "display_name": "Python 3",
   "language": "python",
   "name": "python3"
  },
  "language_info": {
   "codemirror_mode": {
    "name": "ipython",
    "version": 3
   },
   "file_extension": ".py",
   "mimetype": "text/x-python",
   "name": "python",
   "nbconvert_exporter": "python",
   "pygments_lexer": "ipython3",
   "version": "3.7.6"
  }
 },
 "nbformat": 4,
 "nbformat_minor": 4
}
