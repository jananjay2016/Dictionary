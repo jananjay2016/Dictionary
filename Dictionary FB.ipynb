{
 "cells": [
  {
   "cell_type": "code",
   "execution_count": 65,
   "metadata": {},
   "outputs": [],
   "source": [
    "             # this one after seeing https://discuss.leetcode.com/post/244105\n",
    "def numJewelsInStones(J, S):\n",
    "    return sum(1 for s in S if s in J)"
   ]
  },
  {
   "cell_type": "code",
   "execution_count": 27,
   "metadata": {},
   "outputs": [],
   "source": [
    "def numJewelsInStones(J, S):\n",
    "    return sum(map(S.count, J))"
   ]
  },
  {
   "cell_type": "code",
   "execution_count": 66,
   "metadata": {},
   "outputs": [
    {
     "data": {
      "text/plain": [
       "3"
      ]
     },
     "execution_count": 66,
     "metadata": {},
     "output_type": "execute_result"
    }
   ],
   "source": [
    "numJewelsInStones(\"aA\",\"aAAbbbb\")\n"
   ]
  },
  {
   "cell_type": "code",
   "execution_count": 45,
   "metadata": {},
   "outputs": [],
   "source": [
    "class Solution:\n",
    "    def arraysIntersection(self, arr1, arr2, arr3):\n",
    "        combined = arr1+arr2+arr3\n",
    "        \n",
    "        dict1={}\n",
    "        \n",
    "        for c in combined:\n",
    "            if c in dict1:\n",
    "                dict1[c]+=1\n",
    "            else:\n",
    "                dict1[c]=1\n",
    "        \n",
    "        \n",
    "        return sorted (key for key,value in dict1.items() if value ==3)"
   ]
  },
  {
   "cell_type": "code",
   "execution_count": 56,
   "metadata": {},
   "outputs": [
    {
     "data": {
      "text/plain": [
       "[1, 2]"
      ]
     },
     "execution_count": 56,
     "metadata": {},
     "output_type": "execute_result"
    }
   ],
   "source": [
    "c = Solution()\n",
    "c.arraysIntersection1([1,2,3],[1,2],[1,2,3])"
   ]
  },
  {
   "cell_type": "code",
   "execution_count": 55,
   "metadata": {},
   "outputs": [],
   "source": [
    "class Solution:\n",
    "    def arraysIntersection1(self, arr1, arr2, arr3):        \n",
    "        list1 = []\n",
    "        for i in arr1:\n",
    "            for j in arr2:\n",
    "                for k in arr3:\n",
    "                    if i == j and i == k:\n",
    "                        list1.append(i)\n",
    "        \n",
    "        \n",
    "        return list1"
   ]
  },
  {
   "cell_type": "code",
   "execution_count": null,
   "metadata": {},
   "outputs": [],
   "source": []
  }
 ],
 "metadata": {
  "kernelspec": {
   "display_name": "Python 3",
   "language": "python",
   "name": "python3"
  },
  "language_info": {
   "codemirror_mode": {
    "name": "ipython",
    "version": 3
   },
   "file_extension": ".py",
   "mimetype": "text/x-python",
   "name": "python",
   "nbconvert_exporter": "python",
   "pygments_lexer": "ipython3",
   "version": "3.7.6"
  }
 },
 "nbformat": 4,
 "nbformat_minor": 4
}
